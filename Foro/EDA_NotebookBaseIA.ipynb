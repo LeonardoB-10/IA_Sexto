{
 "cells": [
  {
   "cell_type": "markdown",
   "id": "d8dfaa44",
   "metadata": {},
   "source": [
    "<center><h1>EDA-Exploratory Data Analysis</header1></center>"
   ]
  },
  {
   "cell_type": "markdown",
   "id": "87adb875",
   "metadata": {},
   "source": [
    "Presentado por: Nombres Apellidos  <br>\n",
    "Fecha: DD/MM/2022"
   ]
  },
  {
   "cell_type": "markdown",
   "id": "9cdb2734",
   "metadata": {},
   "source": [
    "# Importación de librerias necesarias"
   ]
  },
  {
   "cell_type": "markdown",
   "id": "d4a12aee",
   "metadata": {},
   "source": [
    "#Para esta actividad se importarán las siguientes librerías:"
   ]
  },
  {
   "cell_type": "code",
   "execution_count": null,
   "id": "98e7b299",
   "metadata": {},
   "outputs": [],
   "source": []
  },
  {
   "cell_type": "markdown",
   "id": "27dba770",
   "metadata": {},
   "source": [
    "# Hallazgo 1"
   ]
  },
  {
   "cell_type": "code",
   "execution_count": null,
   "id": "c442f756",
   "metadata": {},
   "outputs": [],
   "source": []
  },
  {
   "cell_type": "markdown",
   "id": "344b1d63",
   "metadata": {},
   "source": [
    "# Estrategia 1"
   ]
  },
  {
   "cell_type": "code",
   "execution_count": null,
   "id": "ae0339c0",
   "metadata": {},
   "outputs": [],
   "source": []
  },
  {
   "cell_type": "markdown",
   "id": "a0a152ad",
   "metadata": {},
   "source": [
    "# Hallazgo 2"
   ]
  },
  {
   "cell_type": "code",
   "execution_count": null,
   "id": "80f61f03",
   "metadata": {},
   "outputs": [],
   "source": []
  },
  {
   "cell_type": "markdown",
   "id": "81967aa3",
   "metadata": {},
   "source": [
    "# Estrategia 2"
   ]
  },
  {
   "cell_type": "code",
   "execution_count": null,
   "id": "a99e3177",
   "metadata": {},
   "outputs": [],
   "source": []
  },
  {
   "cell_type": "markdown",
   "id": "7e0f7d3a",
   "metadata": {},
   "source": [
    "# Hallazgo 3"
   ]
  },
  {
   "cell_type": "code",
   "execution_count": null,
   "id": "58a0905f",
   "metadata": {},
   "outputs": [],
   "source": []
  },
  {
   "cell_type": "markdown",
   "id": "53daae0c",
   "metadata": {},
   "source": [
    "# Estrategia 3"
   ]
  },
  {
   "cell_type": "code",
   "execution_count": null,
   "id": "969c9d65",
   "metadata": {},
   "outputs": [],
   "source": []
  }
 ],
 "metadata": {
  "kernelspec": {
   "display_name": "Python 3 (ipykernel)",
   "language": "python",
   "name": "python3"
  },
  "language_info": {
   "codemirror_mode": {
    "name": "ipython",
    "version": 3
   },
   "file_extension": ".py",
   "mimetype": "text/x-python",
   "name": "python",
   "nbconvert_exporter": "python",
   "pygments_lexer": "ipython3",
   "version": "3.9.7"
  }
 },
 "nbformat": 4,
 "nbformat_minor": 5
}
