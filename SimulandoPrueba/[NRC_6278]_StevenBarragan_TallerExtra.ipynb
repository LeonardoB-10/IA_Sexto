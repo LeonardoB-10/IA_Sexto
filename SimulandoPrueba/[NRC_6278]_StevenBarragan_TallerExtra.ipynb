{
 "cells": [
  {
   "cell_type": "markdown",
   "id": "8b6f603c",
   "metadata": {},
   "source": [
    "<center><h1>Técnicas de Inteligencia Artificial</header1></center>"
   ]
  },
  {
   "cell_type": "markdown",
   "id": "3eb1aaac",
   "metadata": {},
   "source": [
    "Presentado por: Steven Barragan <br> \n",
    "Fecha: 13/07/2022"
   ]
  },
  {
   "cell_type": "markdown",
   "id": "1dec299b",
   "metadata": {
    "ExecuteTime": {
     "end_time": "2022-03-14T15:14:04.930713Z",
     "start_time": "2022-03-14T15:14:04.921682Z"
    }
   },
   "source": [
    "# Importación de librerias necesarias"
   ]
  },
  {
   "cell_type": "code",
   "execution_count": 85,
   "id": "6d1abf7a",
   "metadata": {
    "ExecuteTime": {
     "end_time": "2022-03-14T15:14:46.228059Z",
     "start_time": "2022-03-14T15:14:46.223108Z"
    }
   },
   "outputs": [],
   "source": [
    "#Para esta actividad se importarán las siguientes librerías:\n",
    "#Importamos la libreria pandas\n",
    "import pandas as pd\n",
    "\n",
    "#Importacion de la libreria matplotlib\n",
    "import matplotlib.pyplot as plt\n",
    "\n",
    "#Importacion de la libreria numpy\n",
    "import numpy as np\n",
    "\n",
    "#Importacion de la libreria seaborn\n",
    "import seaborn as sns\n",
    "\n",
    "#Importacion la clase train_test_split de la libreria sklearn\n",
    "from sklearn.model_selection import train_test_split\n"
   ]
  },
  {
   "cell_type": "markdown",
   "id": "6a44b924",
   "metadata": {},
   "source": [
    "## Cargar el Dataset"
   ]
  },
  {
   "cell_type": "code",
   "execution_count": 65,
   "id": "3541e808",
   "metadata": {},
   "outputs": [
    {
     "data": {
      "text/html": [
       "<div>\n",
       "<style scoped>\n",
       "    .dataframe tbody tr th:only-of-type {\n",
       "        vertical-align: middle;\n",
       "    }\n",
       "\n",
       "    .dataframe tbody tr th {\n",
       "        vertical-align: top;\n",
       "    }\n",
       "\n",
       "    .dataframe thead th {\n",
       "        text-align: right;\n",
       "    }\n",
       "</style>\n",
       "<table border=\"1\" class=\"dataframe\">\n",
       "  <thead>\n",
       "    <tr style=\"text-align: right;\">\n",
       "      <th></th>\n",
       "      <th>Age</th>\n",
       "      <th>KM</th>\n",
       "      <th>Weight</th>\n",
       "      <th>HP</th>\n",
       "      <th>MetColor</th>\n",
       "      <th>CC</th>\n",
       "      <th>Doors</th>\n",
       "      <th>Price</th>\n",
       "    </tr>\n",
       "  </thead>\n",
       "  <tbody>\n",
       "    <tr>\n",
       "      <th>0</th>\n",
       "      <td>23.0</td>\n",
       "      <td>46986</td>\n",
       "      <td>1165.0</td>\n",
       "      <td>90</td>\n",
       "      <td>1</td>\n",
       "      <td>2000.0</td>\n",
       "      <td>3</td>\n",
       "      <td>13500</td>\n",
       "    </tr>\n",
       "    <tr>\n",
       "      <th>1</th>\n",
       "      <td>23.0</td>\n",
       "      <td>72937</td>\n",
       "      <td>1165.0</td>\n",
       "      <td>90</td>\n",
       "      <td>1</td>\n",
       "      <td>2000.0</td>\n",
       "      <td>3</td>\n",
       "      <td>13750</td>\n",
       "    </tr>\n",
       "    <tr>\n",
       "      <th>2</th>\n",
       "      <td>24.0</td>\n",
       "      <td>41711</td>\n",
       "      <td>1165.0</td>\n",
       "      <td>90</td>\n",
       "      <td>1</td>\n",
       "      <td>2000.0</td>\n",
       "      <td>3</td>\n",
       "      <td>13950</td>\n",
       "    </tr>\n",
       "    <tr>\n",
       "      <th>3</th>\n",
       "      <td>26.0</td>\n",
       "      <td>48000</td>\n",
       "      <td>1165.0</td>\n",
       "      <td>90</td>\n",
       "      <td>0</td>\n",
       "      <td>2000.0</td>\n",
       "      <td>3</td>\n",
       "      <td>14950</td>\n",
       "    </tr>\n",
       "    <tr>\n",
       "      <th>4</th>\n",
       "      <td>30.0</td>\n",
       "      <td>38500</td>\n",
       "      <td>1170.0</td>\n",
       "      <td>90</td>\n",
       "      <td>0</td>\n",
       "      <td>2000.0</td>\n",
       "      <td>3</td>\n",
       "      <td>13750</td>\n",
       "    </tr>\n",
       "  </tbody>\n",
       "</table>\n",
       "</div>"
      ],
      "text/plain": [
       "    Age     KM  Weight  HP  MetColor      CC  Doors  Price\n",
       "0  23.0  46986  1165.0  90         1  2000.0      3  13500\n",
       "1  23.0  72937  1165.0  90         1  2000.0      3  13750\n",
       "2  24.0  41711  1165.0  90         1  2000.0      3  13950\n",
       "3  26.0  48000  1165.0  90         0  2000.0      3  14950\n",
       "4  30.0  38500  1170.0  90         0  2000.0      3  13750"
      ]
     },
     "execution_count": 65,
     "metadata": {},
     "output_type": "execute_result"
    }
   ],
   "source": [
    "#Código para cargar el Dataset\n",
    "# seleccionamos el archivo\n",
    "filename = 'Car_Prices_Dataset.csv'\n",
    "#Cargamos el archivo\n",
    "data_car = pd.read_csv(filename, header=0, sep=';')\n",
    "# Transformamos en un dataframe\n",
    "df = pd.DataFrame(data_car)\n",
    "\n",
    "#Mostramos el dataset\n",
    "df.head()\n"
   ]
  },
  {
   "cell_type": "markdown",
   "id": "93c30410",
   "metadata": {},
   "source": [
    "## Descripción de la fuente del Dataset"
   ]
  },
  {
   "cell_type": "markdown",
   "id": "db6174bc",
   "metadata": {},
   "source": [
    "**variable y** <br>\n",
    "Precio: precio del carro\n",
    "\n",
    "**Variables de entrada** <br>\n",
    "Age: Antiguedad del carro en meses<br> \n",
    "Km: kilometros recorridos del coche<br> \n",
    "Weight: Peso del coche<br> \n",
    "HP: Caballos de fuerza<br> \n",
    "Metcolor: posee un color metalico (1=si/0=no)<br> \n",
    "CC: cilindraje del motor<br> \n",
    "Doors: número de puertas del carro<br> \n",
    "\n",
    "\n"
   ]
  },
  {
   "cell_type": "markdown",
   "id": "7f868eab",
   "metadata": {},
   "source": [
    "## Explique el problema a resolver. \n",
    "Se requiere predecir el precio de un coche en función a ciertas caracteristicas que son tomadas en cuenta, entre las cuales tenemos la edad, los kilometros recorridos, el peso del coche, caballos de fuerza, si el vehiculo posee un color metalico, el cilindraje del motor y el número de puertas. Todas estas caracteristicas son tomadas en cuenta para determinar el precio final del vehiculo."
   ]
  },
  {
   "cell_type": "markdown",
   "id": "a0b719c1",
   "metadata": {},
   "source": [
    "## Caracterización del Dataset\n",
    "\n",
    "Realice una descripción de los datos con:\n",
    "\n",
    ">- Número de instancias en total: 1435.\n",
    ">- Número de atributos de entrada, su significado y tipo.<br>\n",
    ">- Estadísticas de la variable objetivo.<br>\n",
    ">- Estadísticas los atributos en relación con la variable objetivo.\n"
   ]
  },
  {
   "cell_type": "code",
   "execution_count": 66,
   "id": "2f0ed5d2",
   "metadata": {},
   "outputs": [
    {
     "data": {
      "text/html": [
       "<div>\n",
       "<style scoped>\n",
       "    .dataframe tbody tr th:only-of-type {\n",
       "        vertical-align: middle;\n",
       "    }\n",
       "\n",
       "    .dataframe tbody tr th {\n",
       "        vertical-align: top;\n",
       "    }\n",
       "\n",
       "    .dataframe thead th {\n",
       "        text-align: right;\n",
       "    }\n",
       "</style>\n",
       "<table border=\"1\" class=\"dataframe\">\n",
       "  <thead>\n",
       "    <tr style=\"text-align: right;\">\n",
       "      <th></th>\n",
       "      <th>Age</th>\n",
       "      <th>KM</th>\n",
       "      <th>Weight</th>\n",
       "      <th>HP</th>\n",
       "      <th>MetColor</th>\n",
       "      <th>CC</th>\n",
       "      <th>Doors</th>\n",
       "      <th>Price</th>\n",
       "    </tr>\n",
       "  </thead>\n",
       "  <tbody>\n",
       "    <tr>\n",
       "      <th>count</th>\n",
       "      <td>1435.000000</td>\n",
       "      <td>1435.000000</td>\n",
       "      <td>1435.000000</td>\n",
       "      <td>1435.000000</td>\n",
       "      <td>1435.000000</td>\n",
       "      <td>1435.000000</td>\n",
       "      <td>1435.000000</td>\n",
       "      <td>1435.000000</td>\n",
       "    </tr>\n",
       "    <tr>\n",
       "      <th>mean</th>\n",
       "      <td>56.027178</td>\n",
       "      <td>68571.782578</td>\n",
       "      <td>1071.659930</td>\n",
       "      <td>101.491986</td>\n",
       "      <td>0.674564</td>\n",
       "      <td>1566.735192</td>\n",
       "      <td>4.032753</td>\n",
       "      <td>10720.915679</td>\n",
       "    </tr>\n",
       "    <tr>\n",
       "      <th>std</th>\n",
       "      <td>18.532943</td>\n",
       "      <td>37491.094553</td>\n",
       "      <td>47.688509</td>\n",
       "      <td>14.981408</td>\n",
       "      <td>0.468701</td>\n",
       "      <td>186.767122</td>\n",
       "      <td>0.952667</td>\n",
       "      <td>3608.732978</td>\n",
       "    </tr>\n",
       "    <tr>\n",
       "      <th>min</th>\n",
       "      <td>1.000000</td>\n",
       "      <td>1.000000</td>\n",
       "      <td>1000.000000</td>\n",
       "      <td>69.000000</td>\n",
       "      <td>0.000000</td>\n",
       "      <td>1300.000000</td>\n",
       "      <td>2.000000</td>\n",
       "      <td>4350.000000</td>\n",
       "    </tr>\n",
       "    <tr>\n",
       "      <th>25%</th>\n",
       "      <td>44.000000</td>\n",
       "      <td>43000.000000</td>\n",
       "      <td>1040.000000</td>\n",
       "      <td>90.000000</td>\n",
       "      <td>0.000000</td>\n",
       "      <td>1400.000000</td>\n",
       "      <td>3.000000</td>\n",
       "      <td>8450.000000</td>\n",
       "    </tr>\n",
       "    <tr>\n",
       "      <th>50%</th>\n",
       "      <td>61.000000</td>\n",
       "      <td>63451.000000</td>\n",
       "      <td>1070.000000</td>\n",
       "      <td>110.000000</td>\n",
       "      <td>1.000000</td>\n",
       "      <td>1600.000000</td>\n",
       "      <td>4.000000</td>\n",
       "      <td>9900.000000</td>\n",
       "    </tr>\n",
       "    <tr>\n",
       "      <th>75%</th>\n",
       "      <td>70.000000</td>\n",
       "      <td>87041.500000</td>\n",
       "      <td>1085.000000</td>\n",
       "      <td>110.000000</td>\n",
       "      <td>1.000000</td>\n",
       "      <td>1600.000000</td>\n",
       "      <td>5.000000</td>\n",
       "      <td>11950.000000</td>\n",
       "    </tr>\n",
       "    <tr>\n",
       "      <th>max</th>\n",
       "      <td>80.000000</td>\n",
       "      <td>243000.000000</td>\n",
       "      <td>1320.000000</td>\n",
       "      <td>192.000000</td>\n",
       "      <td>1.000000</td>\n",
       "      <td>2000.000000</td>\n",
       "      <td>5.000000</td>\n",
       "      <td>32500.000000</td>\n",
       "    </tr>\n",
       "  </tbody>\n",
       "</table>\n",
       "</div>"
      ],
      "text/plain": [
       "               Age             KM       Weight           HP     MetColor  \\\n",
       "count  1435.000000    1435.000000  1435.000000  1435.000000  1435.000000   \n",
       "mean     56.027178   68571.782578  1071.659930   101.491986     0.674564   \n",
       "std      18.532943   37491.094553    47.688509    14.981408     0.468701   \n",
       "min       1.000000       1.000000  1000.000000    69.000000     0.000000   \n",
       "25%      44.000000   43000.000000  1040.000000    90.000000     0.000000   \n",
       "50%      61.000000   63451.000000  1070.000000   110.000000     1.000000   \n",
       "75%      70.000000   87041.500000  1085.000000   110.000000     1.000000   \n",
       "max      80.000000  243000.000000  1320.000000   192.000000     1.000000   \n",
       "\n",
       "                CC        Doors         Price  \n",
       "count  1435.000000  1435.000000   1435.000000  \n",
       "mean   1566.735192     4.032753  10720.915679  \n",
       "std     186.767122     0.952667   3608.732978  \n",
       "min    1300.000000     2.000000   4350.000000  \n",
       "25%    1400.000000     3.000000   8450.000000  \n",
       "50%    1600.000000     4.000000   9900.000000  \n",
       "75%    1600.000000     5.000000  11950.000000  \n",
       "max    2000.000000     5.000000  32500.000000  "
      ]
     },
     "execution_count": 66,
     "metadata": {},
     "output_type": "execute_result"
    }
   ],
   "source": [
    "#Código que responde a la descripción anterior\n",
    "df.describe()"
   ]
  },
  {
   "cell_type": "markdown",
   "id": "a7ab5e48",
   "metadata": {},
   "source": [
    "Se pudo visualizar mediante la ejecución del comando describe ciertas caracteristicas, entre las cuales podemos destacar el promedio de antiguedad de los coches el cual es de 56.02 meses, con un recorrido promedio de 68571.78 Km, con un promedio de caballos de fuerza de 101.49, y generando un precio promedio de 10720.92$\n",
    "\n",
    "En función de las caracteristicas de cada coche, los precios oscilan entre los 4350 y los 32500$. La valor que cada caracteristica toma puede cambiar sustancialmente el precio final, por lo cual, el modelo debe ser capaz de efectuar estas predicciones con una gran precisión."
   ]
  },
  {
   "cell_type": "markdown",
   "id": "0a19e6af",
   "metadata": {},
   "source": [
    "## Preprocesamiento del dataset. Transformaciones previas necesarias para la modelación"
   ]
  },
  {
   "cell_type": "code",
   "execution_count": 67,
   "id": "5a24dac4",
   "metadata": {},
   "outputs": [],
   "source": [
    "# Variable objetivo y variables de entrada\n",
    "\n",
    "# Asignamos la variables X\n",
    "X = df.drop('Price', axis =1)\n",
    "# Asignamos la variable Price como Y\n",
    "Y = df[['Price']]"
   ]
  },
  {
   "cell_type": "code",
   "execution_count": 68,
   "id": "c430d63e",
   "metadata": {},
   "outputs": [],
   "source": [
    "### Estandarización de la data ###\n",
    "from sklearn.preprocessing import StandardScaler\n",
    "VariablesEntradaScaler=StandardScaler()\n",
    "VariableObjetivoScaler=StandardScaler()"
   ]
  },
  {
   "cell_type": "code",
   "execution_count": 69,
   "id": "27668d72",
   "metadata": {},
   "outputs": [],
   "source": [
    "#Almacenamiento del objeto de ajuste para referencia posterior\n",
    "VariablesEntradaFit=VariablesEntradaScaler.fit(X)\n",
    "VariableObjetivoFit=VariableObjetivoScaler.fit(Y)"
   ]
  },
  {
   "cell_type": "code",
   "execution_count": 70,
   "id": "49c8fb73",
   "metadata": {},
   "outputs": [],
   "source": [
    "#Generación de los valores estandarizados de X e y\n",
    "X=VariablesEntradaFit.transform(X)\n",
    "y=VariableObjetivoFit.transform(Y)"
   ]
  },
  {
   "cell_type": "markdown",
   "id": "49815fde",
   "metadata": {
    "ExecuteTime": {
     "end_time": "2022-03-14T15:56:34.366469Z",
     "start_time": "2022-03-14T15:56:34.358471Z"
    }
   },
   "source": [
    "## División del dataset en datos de entrenamiento y datos de test "
   ]
  },
  {
   "cell_type": "code",
   "execution_count": 71,
   "id": "6f26d21e",
   "metadata": {},
   "outputs": [
    {
     "data": {
      "text/plain": [
       "((1004, 7), (431, 7))"
      ]
     },
     "execution_count": 71,
     "metadata": {},
     "output_type": "execute_result"
    }
   ],
   "source": [
    "#Código que realice la división en entrenamiento y test, de acuerdo con la estretgia de evaluación planeada. Describa cuál es.\n",
    "#Dividimos los datos del dataset.\n",
    "X_train, X_test, y_train, y_test = train_test_split(df.drop('Price', axis=1), df['Price'], test_size=0.3, random_state=0)\n",
    "\n",
    "#Visualizacion de los datos obtenidos\n",
    "X_train.shape, X_test.shape"
   ]
  },
  {
   "cell_type": "markdown",
   "id": "6319adad",
   "metadata": {},
   "source": [
    "## Regresión Lineal"
   ]
  },
  {
   "cell_type": "code",
   "execution_count": 72,
   "id": "d5d2b2c6",
   "metadata": {},
   "outputs": [],
   "source": [
    "#Código del modelo\n",
    "#Importamos modelo linear de la libreria sklearn\n",
    "from sklearn import linear_model\n",
    "# Creamos el objeto de Regresión Linear\n",
    "regresion = linear_model.LinearRegression()"
   ]
  },
  {
   "cell_type": "code",
   "execution_count": 73,
   "id": "33f5be2a",
   "metadata": {
    "ExecuteTime": {
     "end_time": "2022-04-25T07:21:39.020596Z",
     "start_time": "2022-04-25T07:21:39.005596Z"
    }
   },
   "outputs": [
    {
     "data": {
      "text/plain": [
       "LinearRegression()"
      ]
     },
     "execution_count": 73,
     "metadata": {},
     "output_type": "execute_result"
    }
   ],
   "source": [
    "#Entrenamiento\n",
    "#Alimentamos el modelo con los datos de entrenamiento\n",
    "regresion.fit(X_train, y_train)"
   ]
  },
  {
   "cell_type": "code",
   "execution_count": 74,
   "id": "a2e675b3",
   "metadata": {
    "scrolled": true
   },
   "outputs": [
    {
     "name": "stdout",
     "output_type": "stream",
     "text": [
      "[10328.59538045 11271.19561979 13005.54557602  7712.03456334\n",
      " 10042.1323075   8889.88812718  5934.5459328  16452.15483554\n",
      " 11523.71611164 10697.99834203  6180.34576352 10031.04477007\n",
      " 11249.6304569   9755.18176348 11451.691751   16343.96888007\n",
      " 11322.36599575  9558.32354032 13581.88612495  6729.69762027\n",
      " 10089.13345542  6099.5235968  11016.40178241 11484.20267916\n",
      " 18777.66026685  9568.31426102 13125.99079598  5341.96647557\n",
      "  8554.45743608  7726.89666447 10871.95461025  9717.29489075\n",
      " 15916.58060124  7256.25120215 11442.94732373 13758.90966347\n",
      "  9366.59672339 12760.76884157  7798.84413097 10488.96392569\n",
      "  7156.34638686  5635.80376781 10731.45244545 17410.97346463\n",
      "  9995.01145094  6993.1324178   8961.9118204   7760.00684503\n",
      "  8560.87595261  7187.95759556 17594.4775379   7483.2125434\n",
      "  7966.97613024 10342.88279506  6607.07490295 16989.91325348\n",
      " 14147.07220458  9103.07895853 18613.71085535 10395.00668847\n",
      "  8671.11042616  7873.3205133  10993.14342549 12268.17860445\n",
      " 11282.67329493 12313.05860734  8224.18819039  6628.80553508\n",
      " 18975.77439076 10874.09121393  8402.76130542 10118.55471185\n",
      " 12735.02679303  7780.35593519 14119.90039137 13388.69937353\n",
      " 10177.85712811 10454.30898193  7802.27148978  8086.44098195\n",
      "  9145.36798216  9525.47786329  5911.37549511 13032.64499961\n",
      " 13201.10544093 11000.51560222 11036.9510389  10621.16718132\n",
      "  7951.59021451  8448.58973382  7411.74789044 10453.71456217\n",
      " 16841.11297606 12785.96762387  8588.57401869 12693.48790328\n",
      " 15262.02572372  8430.81609626 13002.80167006  7510.67387228\n",
      "  8329.9617042  11025.26846786 13085.69904295 10793.63528617\n",
      " 11267.31350679 18527.63145081 18200.59101568  8281.77376992\n",
      " 14119.40439996  8783.42335611 12555.4554563   5991.15287787\n",
      "  8740.63008625  9658.60764588 13643.35400626 10004.48142886\n",
      "  7764.88945132 11944.22420057  8132.65210084 10187.73333432\n",
      " 17607.51675773  8660.92356155 13033.17044644 10333.53591316\n",
      " 10381.68769067 18362.75427865  6838.41997437  7750.49311645\n",
      "  7292.79845234 10940.6506594  17293.67713383  6819.92014978\n",
      " 12089.68819137  6409.45388126 20054.26858996 11787.68308581\n",
      " 13591.9656659  11939.10695737 10239.61552919 13368.48176226\n",
      " 16023.09726068 10683.79717547  8943.23186616  7779.56386764\n",
      "  9864.14461578 18664.60032911 10875.92627666 12253.89269608\n",
      " 11531.50743866 11736.75376636  8204.06684865 11632.70312345\n",
      "  9132.38371894  6799.24297664 11126.45022595 15052.74424668\n",
      "  5958.49572045  8018.63777695  7669.51512946  8593.40424839\n",
      "  7945.45459666  7544.91683965  7588.17330153 15331.25910204\n",
      " 10696.61092662  8155.58859615 19964.72066756  8286.18228143\n",
      "  8918.0050409  15796.37561786 10358.12419405 10556.0541309\n",
      "  7056.03796304  8979.38131849  8105.27140261 10622.77328435\n",
      "  9939.55421624 11340.32958842 21146.7379204   9329.99426331\n",
      " 11377.02227066  8999.95614279  8402.62570765 15991.85436315\n",
      " 13076.36847743  8793.88590823  9469.59900975 16436.38771763\n",
      " 15971.50748624  8171.19175493  6985.62878486  8324.93857457\n",
      " 11614.88048051 11154.93137544 10306.04843449  7453.632956\n",
      " 18263.8400813   7621.58673267  7612.18382698 10720.71759663\n",
      "  9566.28467254 11951.36784635 12094.19899049 15668.78611873\n",
      " 12853.40843422  8357.72030553 10950.21713166 10878.98467993\n",
      "  9546.26576942  7252.38271021 12638.78460373  8456.40469441\n",
      "  7726.88433245  6526.81291234  7101.12762564 16471.17426057\n",
      " 19583.43416445 10820.0846418   7782.10889498 14228.22769946\n",
      "  7611.4818781   9518.33179119 11794.55129331  8812.93508985\n",
      " 12986.89528971 10737.25306948  8149.94751746 17738.5827543\n",
      " 13553.49140736  8560.15749077  8408.87599499 12050.0059864\n",
      "  7744.92991427 13898.54677837  6939.08153167  8866.31160845\n",
      "  7373.61104215  7175.56760125  9593.66615966 13149.42757804\n",
      " 10383.12451012  8358.06683782  6870.25845701 10239.87746599\n",
      " 18396.01585909  7767.40419096 10274.51203957  9396.68251595\n",
      " 11925.79431605  6642.62704213  8510.50945153  9210.58172795\n",
      " 11234.54941532 10284.74740511 10869.21677593 11289.97952749\n",
      "  7297.2098874  16407.92801884  8311.45739376  9195.28122607\n",
      " 20213.56667297  7649.17359902 12424.83001966  9013.95688426\n",
      " 16177.13984878  9103.45639987 16640.49998108  8903.22303164\n",
      "  7511.09477129 10385.40460738 12927.53132233 10572.82178835\n",
      " 10476.70294056 10821.37713611 11944.71676325 18339.20975326\n",
      " 20423.38400829  6462.40477967  8486.48890826 12304.13832647\n",
      "  6426.53491367  7847.45129663  6693.44534941 10336.86958749\n",
      " 10914.04187902  9433.58682284 13764.89454393  8086.99562178\n",
      "  6291.38352649 11888.46046723  8979.40824798  7438.33078658\n",
      " 12458.06094167  8870.14681012 11774.62445331 11129.9392832\n",
      " 13006.88759177  6523.09919471  7385.24211811 13077.75005784\n",
      "  8933.14264677  8807.99738329 10434.90022859 10502.8747717\n",
      "  8680.34765299 11099.76284804  9948.94158418  8235.57294809\n",
      " 10060.32533882 11069.71582992 11216.93785156 10778.71344015\n",
      "  7961.68871173 12392.99590961 10891.11320605 10793.56496654\n",
      "  9667.66510356  7825.43510877 12677.14113068 10244.16514217\n",
      " 10854.0892647   8037.59141178  7488.59275608  8317.69425431\n",
      "  4785.38911803 10698.38105378  8400.87375786  8442.90319467\n",
      "  7546.488067    8258.92132324 10108.33552218  9271.74837948\n",
      "  7817.74580695 12589.25073695  8317.38272586  8522.17523561\n",
      "  9954.09592837  7122.99565319 12180.11145046 12808.17919026\n",
      "  8125.73713014  7345.02383811  8713.56565258 19212.93363157\n",
      " 10891.88466497  6374.89046468 10303.96207266  9823.54999273\n",
      " 11132.95491091  9389.93048599 16238.21495382  6592.31074447\n",
      " 11627.39539918 17917.05875613  7862.38214409  9308.9211315\n",
      " 10578.19692732 12521.26433806  7053.37913838  5092.64827262\n",
      " 12466.81012408  8967.26975074 13154.58374341  8414.76602783\n",
      "  9643.36467948  8354.73493893 11710.29640436 13070.34141763\n",
      "  6527.29113146  7425.30040186  7939.70784678  9274.80544152\n",
      " 13234.42329084 13840.9117957   8510.65453698  9663.40164357\n",
      " 11626.77829108 13825.87375042  7160.86634014 10244.18308347\n",
      "  8724.07246565  9186.98403168 15946.48663861  8900.89772366\n",
      "  9257.75223641 20438.98714984  9169.53458611  7718.6405984\n",
      "  6320.8013035  10213.09171088  8425.13272264  8831.79066836\n",
      "  9375.29724489 15996.7625265   7413.06301635  9805.16485585\n",
      "  9633.83896651  7566.61505839  6662.33582703 10358.35485976\n",
      " 13062.44053424  8535.29876648  6480.42916716  9714.80310258\n",
      "  8718.92030273 10042.92859155  6183.33379379  7709.92632253\n",
      "  9310.70577262  9453.54652304  7854.00621073  9578.17259888\n",
      "  8876.51641022  9939.02149347  7284.43391013 10145.6243661\n",
      "  7633.94169176  8281.70890234 11018.60322195 11064.41284217\n",
      "  7101.26978763  7758.93412499  8437.95055834  7595.45148384\n",
      " 16999.33547664 20323.83604759  8233.92783176  8394.62781602\n",
      " 11385.05776585  9533.12579841  8058.51692054]\n"
     ]
    }
   ],
   "source": [
    "#Test\n",
    "# guardamos el resultado de la predicción del test\n",
    "y_pred = regresion.predict(X_test)\n",
    "\n",
    "# Mostramos las predicciones\n",
    "print(y_pred)"
   ]
  },
  {
   "cell_type": "markdown",
   "id": "9c2239f5",
   "metadata": {},
   "source": [
    "## Evaluación del Modelo"
   ]
  },
  {
   "cell_type": "code",
   "execution_count": 100,
   "id": "9c142e03",
   "metadata": {},
   "outputs": [
    {
     "data": {
      "text/plain": [
       "0.8780940972997864"
      ]
     },
     "execution_count": 100,
     "metadata": {},
     "output_type": "execute_result"
    }
   ],
   "source": [
    "#Evaluación del modelo\n",
    "from sklearn.metrics import r2_score\n",
    "r2_score(y_test,y_pred)"
   ]
  },
  {
   "cell_type": "code",
   "execution_count": 106,
   "id": "418b4029",
   "metadata": {},
   "outputs": [
    {
     "data": {
      "text/plain": [
       "<matplotlib.collections.PathCollection at 0x13f427ced00>"
      ]
     },
     "execution_count": 106,
     "metadata": {},
     "output_type": "execute_result"
    },
    {
     "data": {
      "image/png": "[encoded data removed]",
      "text/plain": [
       "<Figure size 432x288 with 1 Axes>"
      ]
     },
     "metadata": {
      "needs_background": "light"
     },
     "output_type": "display_data"
    }
   ],
   "source": [
    "# Visualización de resultados\n",
    "plt.scatter(y_test,y_pred)"
   ]
  },
  {
   "cell_type": "markdown",
   "id": "ad219a0c",
   "metadata": {},
   "source": [
    "Mediante el análisis de los datos de test y prueba, podemos apreciar en la gráfica que los elementos se estan ajustando al modelo de regreción lineal, con una precisión del 87.80% durante la predicción del precio de los vehiculos. A pesar de las diferentes caracteristicas que posee cada vehiculo, el modelo mediante los datos que fueron utilizados para el entrenamiento, genera perfiles similares y trata de predecir con exactitud el precio de los vehiculos con las caracteristicas utilizadas para las pruebas."
   ]
  }
 ],
 "metadata": {
  "kernelspec": {
   "display_name": "Python 3 (ipykernel)",
   "language": "python",
   "name": "python3"
  },
  "language_info": {
   "codemirror_mode": {
    "name": "ipython",
    "version": 3
   },
   "file_extension": ".py",
   "mimetype": "text/x-python",
   "name": "python",
   "nbconvert_exporter": "python",
   "pygments_lexer": "ipython3",
   "version": "3.9.7"
  },
  "toc": {
   "base_numbering": 1,
   "nav_menu": {},
   "number_sections": true,
   "sideBar": true,
   "skip_h1_title": true,
   "title_cell": "Tabla de Contenido",
   "title_sidebar": "Contenido",
   "toc_cell": false,
   "toc_position": {
    "height": "calc(100% - 180px)",
    "left": "10px",
    "top": "150px",
    "width": "263.591px"
   },
   "toc_section_display": true,
   "toc_window_display": true
  }
 },
 "nbformat": 4,
 "nbformat_minor": 5
}
