{
 "cells": [
  {
   "cell_type": "code",
   "execution_count": 8,
   "id": "a0640b44",
   "metadata": {},
   "outputs": [],
   "source": [
    "import pandas as pd#importar libreria pandas\n",
    "import seaborn as sns#importar libreria seaborn\n",
    "df= pd.read_csv('covid.csv')#cargar dataset covid"
   ]
  },
  {
   "cell_type": "code",
   "execution_count": 9,
   "id": "2da4a664",
   "metadata": {},
   "outputs": [
    {
     "data": {
      "text/html": [
       "<div>\n",
       "<style scoped>\n",
       "    .dataframe tbody tr th:only-of-type {\n",
       "        vertical-align: middle;\n",
       "    }\n",
       "\n",
       "    .dataframe tbody tr th {\n",
       "        vertical-align: top;\n",
       "    }\n",
       "\n",
       "    .dataframe thead th {\n",
       "        text-align: right;\n",
       "    }\n",
       "</style>\n",
       "<table border=\"1\" class=\"dataframe\">\n",
       "  <thead>\n",
       "    <tr style=\"text-align: right;\">\n",
       "      <th></th>\n",
       "      <th>Prefecture</th>\n",
       "      <th>Category</th>\n",
       "      <th>Item</th>\n",
       "      <th>Value</th>\n",
       "      <th>Date</th>\n",
       "      <th>Primary_source</th>\n",
       "      <th>Secondary_source</th>\n",
       "    </tr>\n",
       "  </thead>\n",
       "  <tbody>\n",
       "    <tr>\n",
       "      <th>0</th>\n",
       "      <td>Hokkaido</td>\n",
       "      <td>Population</td>\n",
       "      <td>Total</td>\n",
       "      <td>5320</td>\n",
       "      <td>2017-10-01</td>\n",
       "      <td>https://www.mhlw.go.jp/toukei/youran/indexyk_1...</td>\n",
       "      <td>NaN</td>\n",
       "    </tr>\n",
       "    <tr>\n",
       "      <th>1</th>\n",
       "      <td>Aomori</td>\n",
       "      <td>Population</td>\n",
       "      <td>Total</td>\n",
       "      <td>1278</td>\n",
       "      <td>2017-10-01</td>\n",
       "      <td>https://www.mhlw.go.jp/toukei/youran/indexyk_1...</td>\n",
       "      <td>NaN</td>\n",
       "    </tr>\n",
       "    <tr>\n",
       "      <th>2</th>\n",
       "      <td>Iwate</td>\n",
       "      <td>Population</td>\n",
       "      <td>Total</td>\n",
       "      <td>1255</td>\n",
       "      <td>2017-10-01</td>\n",
       "      <td>https://www.mhlw.go.jp/toukei/youran/indexyk_1...</td>\n",
       "      <td>NaN</td>\n",
       "    </tr>\n",
       "    <tr>\n",
       "      <th>3</th>\n",
       "      <td>Miyagi</td>\n",
       "      <td>Population</td>\n",
       "      <td>Total</td>\n",
       "      <td>2323</td>\n",
       "      <td>2017-10-01</td>\n",
       "      <td>https://www.mhlw.go.jp/toukei/youran/indexyk_1...</td>\n",
       "      <td>NaN</td>\n",
       "    </tr>\n",
       "    <tr>\n",
       "      <th>4</th>\n",
       "      <td>Akita</td>\n",
       "      <td>Population</td>\n",
       "      <td>Total</td>\n",
       "      <td>996</td>\n",
       "      <td>2017-10-01</td>\n",
       "      <td>https://www.mhlw.go.jp/toukei/youran/indexyk_1...</td>\n",
       "      <td>NaN</td>\n",
       "    </tr>\n",
       "    <tr>\n",
       "      <th>5</th>\n",
       "      <td>Yamagata</td>\n",
       "      <td>Population</td>\n",
       "      <td>Total</td>\n",
       "      <td>1102</td>\n",
       "      <td>2017-10-01</td>\n",
       "      <td>https://www.mhlw.go.jp/toukei/youran/indexyk_1...</td>\n",
       "      <td>NaN</td>\n",
       "    </tr>\n",
       "    <tr>\n",
       "      <th>6</th>\n",
       "      <td>Fukushima</td>\n",
       "      <td>Population</td>\n",
       "      <td>Total</td>\n",
       "      <td>1882</td>\n",
       "      <td>2017-10-01</td>\n",
       "      <td>https://www.mhlw.go.jp/toukei/youran/indexyk_1...</td>\n",
       "      <td>NaN</td>\n",
       "    </tr>\n",
       "    <tr>\n",
       "      <th>7</th>\n",
       "      <td>Ibaraki</td>\n",
       "      <td>Population</td>\n",
       "      <td>Total</td>\n",
       "      <td>2892</td>\n",
       "      <td>2017-10-01</td>\n",
       "      <td>https://www.mhlw.go.jp/toukei/youran/indexyk_1...</td>\n",
       "      <td>NaN</td>\n",
       "    </tr>\n",
       "    <tr>\n",
       "      <th>8</th>\n",
       "      <td>Tochigi</td>\n",
       "      <td>Population</td>\n",
       "      <td>Total</td>\n",
       "      <td>1957</td>\n",
       "      <td>2017-10-01</td>\n",
       "      <td>https://www.mhlw.go.jp/toukei/youran/indexyk_1...</td>\n",
       "      <td>NaN</td>\n",
       "    </tr>\n",
       "    <tr>\n",
       "      <th>9</th>\n",
       "      <td>Gunma</td>\n",
       "      <td>Population</td>\n",
       "      <td>Total</td>\n",
       "      <td>1960</td>\n",
       "      <td>2017-10-01</td>\n",
       "      <td>https://www.mhlw.go.jp/toukei/youran/indexyk_1...</td>\n",
       "      <td>NaN</td>\n",
       "    </tr>\n",
       "  </tbody>\n",
       "</table>\n",
       "</div>"
      ],
      "text/plain": [
       "  Prefecture    Category   Item Value        Date  \\\n",
       "0   Hokkaido  Population  Total  5320  2017-10-01   \n",
       "1     Aomori  Population  Total  1278  2017-10-01   \n",
       "2      Iwate  Population  Total  1255  2017-10-01   \n",
       "3     Miyagi  Population  Total  2323  2017-10-01   \n",
       "4      Akita  Population  Total   996  2017-10-01   \n",
       "5   Yamagata  Population  Total  1102  2017-10-01   \n",
       "6  Fukushima  Population  Total  1882  2017-10-01   \n",
       "7    Ibaraki  Population  Total  2892  2017-10-01   \n",
       "8    Tochigi  Population  Total  1957  2017-10-01   \n",
       "9      Gunma  Population  Total  1960  2017-10-01   \n",
       "\n",
       "                                      Primary_source Secondary_source  \n",
       "0  https://www.mhlw.go.jp/toukei/youran/indexyk_1...              NaN  \n",
       "1  https://www.mhlw.go.jp/toukei/youran/indexyk_1...              NaN  \n",
       "2  https://www.mhlw.go.jp/toukei/youran/indexyk_1...              NaN  \n",
       "3  https://www.mhlw.go.jp/toukei/youran/indexyk_1...              NaN  \n",
       "4  https://www.mhlw.go.jp/toukei/youran/indexyk_1...              NaN  \n",
       "5  https://www.mhlw.go.jp/toukei/youran/indexyk_1...              NaN  \n",
       "6  https://www.mhlw.go.jp/toukei/youran/indexyk_1...              NaN  \n",
       "7  https://www.mhlw.go.jp/toukei/youran/indexyk_1...              NaN  \n",
       "8  https://www.mhlw.go.jp/toukei/youran/indexyk_1...              NaN  \n",
       "9  https://www.mhlw.go.jp/toukei/youran/indexyk_1...              NaN  "
      ]
     },
     "execution_count": 9,
     "metadata": {},
     "output_type": "execute_result"
    }
   ],
   "source": [
    "df.head(10)#Muestra las primeras 10 filas"
   ]
  },
  {
   "cell_type": "markdown",
   "id": "8cc81f34",
   "metadata": {},
   "source": [
    "Se tiene una estadística descriptiva del data frame que muestra un resumen la tendencia central, la dispersión y la forma de la distribución de un conjunto de datos, excluyendo los valores.NaN"
   ]
  },
  {
   "cell_type": "code",
   "execution_count": 10,
   "id": "628e48ce",
   "metadata": {},
   "outputs": [
    {
     "data": {
      "text/html": [
       "<div>\n",
       "<style scoped>\n",
       "    .dataframe tbody tr th:only-of-type {\n",
       "        vertical-align: middle;\n",
       "    }\n",
       "\n",
       "    .dataframe tbody tr th {\n",
       "        vertical-align: top;\n",
       "    }\n",
       "\n",
       "    .dataframe thead th {\n",
       "        text-align: right;\n",
       "    }\n",
       "</style>\n",
       "<table border=\"1\" class=\"dataframe\">\n",
       "  <thead>\n",
       "    <tr style=\"text-align: right;\">\n",
       "      <th></th>\n",
       "      <th>Prefecture</th>\n",
       "      <th>Category</th>\n",
       "      <th>Item</th>\n",
       "      <th>Value</th>\n",
       "      <th>Date</th>\n",
       "      <th>Primary_source</th>\n",
       "      <th>Secondary_source</th>\n",
       "    </tr>\n",
       "  </thead>\n",
       "  <tbody>\n",
       "    <tr>\n",
       "      <th>count</th>\n",
       "      <td>846</td>\n",
       "      <td>846</td>\n",
       "      <td>846</td>\n",
       "      <td>846</td>\n",
       "      <td>846</td>\n",
       "      <td>564</td>\n",
       "      <td>470</td>\n",
       "    </tr>\n",
       "    <tr>\n",
       "      <th>unique</th>\n",
       "      <td>47</td>\n",
       "      <td>6</td>\n",
       "      <td>14</td>\n",
       "      <td>624</td>\n",
       "      <td>7</td>\n",
       "      <td>5</td>\n",
       "      <td>41</td>\n",
       "    </tr>\n",
       "    <tr>\n",
       "      <th>top</th>\n",
       "      <td>Hokkaido</td>\n",
       "      <td>Hospital_bed</td>\n",
       "      <td>Total</td>\n",
       "      <td>0</td>\n",
       "      <td>2019-04-01</td>\n",
       "      <td>https://www.mhlw.go.jp/toukei/saikin/hw/iryosd...</td>\n",
       "      <td>https://code4sabae.github.io/bedforinfection/</td>\n",
       "    </tr>\n",
       "    <tr>\n",
       "      <th>freq</th>\n",
       "      <td>18</td>\n",
       "      <td>282</td>\n",
       "      <td>188</td>\n",
       "      <td>44</td>\n",
       "      <td>188</td>\n",
       "      <td>188</td>\n",
       "      <td>188</td>\n",
       "    </tr>\n",
       "  </tbody>\n",
       "</table>\n",
       "</div>"
      ],
      "text/plain": [
       "       Prefecture      Category   Item Value        Date  \\\n",
       "count         846           846    846   846         846   \n",
       "unique         47             6     14   624           7   \n",
       "top      Hokkaido  Hospital_bed  Total     0  2019-04-01   \n",
       "freq           18           282    188    44         188   \n",
       "\n",
       "                                           Primary_source  \\\n",
       "count                                                 564   \n",
       "unique                                                  5   \n",
       "top     https://www.mhlw.go.jp/toukei/saikin/hw/iryosd...   \n",
       "freq                                                  188   \n",
       "\n",
       "                                     Secondary_source  \n",
       "count                                             470  \n",
       "unique                                             41  \n",
       "top     https://code4sabae.github.io/bedforinfection/  \n",
       "freq                                              188  "
      ]
     },
     "execution_count": 10,
     "metadata": {},
     "output_type": "execute_result"
    }
   ],
   "source": [
    "#mostrar información del dataset covid\n",
    "df.describe()"
   ]
  },
  {
   "cell_type": "markdown",
   "id": "22af30fa",
   "metadata": {},
   "source": [
    "Se tiene un gráfico que agrupa todos los valores de las ciudades calculando los datos de cada prefectura."
   ]
  },
  {
   "cell_type": "code",
   "execution_count": 17,
   "id": "9fdb59be",
   "metadata": {},
   "outputs": [
    {
     "data": {
      "text/plain": [
       "Prefecture\n",
       "Aichi         6823.255448\n",
       "Akita         2159.676361\n",
       "Aomori        2336.660289\n",
       "Chiba         5852.607993\n",
       "Ehime         2410.787981\n",
       "Fukui         1285.330447\n",
       "Fukuoka       8036.251571\n",
       "Fukushima     3183.826068\n",
       "Gifu          2634.007103\n",
       "Gunma         2618.590765\n",
       "Hiroshima     4216.865943\n",
       "Hokkaido     14797.150794\n",
       "Hyogo         6425.992162\n",
       "Ibaraki       3397.674298\n",
       "Ishikawa      1877.513777\n",
       "Name: Value, dtype: float64"
      ]
     },
     "execution_count": 17,
     "metadata": {},
     "output_type": "execute_result"
    }
   ],
   "source": [
    "#mostrar información del dataset covid  en formato tabla \n",
    "data=pd.concat([df['Prefecture'],pd.to_numeric(df['Value'], errors='coerce')],axis=1)\n",
    "#se calcula el promedio de los datos por cada prefectura\n",
    "promedio=data.groupby('Prefecture').mean()['Value']\n",
    "#muestra los 10 primeros registros\n",
    "promedio.head(15)"
   ]
  },
  {
   "cell_type": "code",
   "execution_count": 16,
   "id": "bf09c2c7",
   "metadata": {},
   "outputs": [
    {
     "data": {
      "text/plain": [
       "<AxesSubplot:ylabel='Prefecture'>"
      ]
     },
     "execution_count": 16,
     "metadata": {},
     "output_type": "execute_result"
    },
    {
     "data": {
      "image/png": "[encoded data removed]",
      "text/plain": [
       "<Figure size 432x288 with 1 Axes>"
      ]
     },
     "metadata": {
      "needs_background": "light"
     },
     "output_type": "display_data"
    }
   ],
   "source": [
    "#stacked=True para que se vean en forma de barras y no en forma de pastel \n",
    "promedio.plot.barh(stacked=True)"
   ]
  },
  {
   "cell_type": "markdown",
   "id": "e5f1c0f7",
   "metadata": {},
   "source": [
    "3) CONSIDERAR NOMBRE DE LA CIUDAD/ PREFECTURA Y POBLACIÓN DE VACUNADOS PARA CALCULAR LA MEDIANA"
   ]
  },
  {
   "cell_type": "code",
   "execution_count": 19,
   "id": "7a1fa692",
   "metadata": {},
   "outputs": [
    {
     "data": {
      "text/plain": [
       "Prefecture\n",
       "Aichi        1599.000000\n",
       "Akita         304.051708\n",
       "Aomori        370.370016\n",
       "Chiba        1154.061567\n",
       "Ehime         451.000000\n",
       "Fukui         257.110851\n",
       "Fukuoka      1606.500000\n",
       "Fukushima     536.233385\n",
       "Gifu          611.500000\n",
       "Gunma         553.530426\n",
       "Name: Value, dtype: float64"
      ]
     },
     "execution_count": 19,
     "metadata": {},
     "output_type": "execute_result"
    }
   ],
   "source": [
    "#Grafica de las medias de cada prefectura con una columna de color para cada prefectura \n",
    "data=pd.concat([df['Prefecture'],pd.to_numeric(df['Value'], errors='coerce')],axis=1)\n",
    "#  se calcula el promedio de los datos por cada prefectura y se le asigna un color a cada prefectura \n",
    "mediana=data.groupby('Prefecture').median()['Value']\n",
    "#Mostrar los primeros 10\n",
    "mediana.head(10)  #muestra los 10 primeros registros de la columna "
   ]
  },
  {
   "cell_type": "code",
   "execution_count": 20,
   "id": "9c0e59c4",
   "metadata": {},
   "outputs": [
    {
     "data": {
      "text/plain": [
       "<AxesSubplot:ylabel='Prefecture'>"
      ]
     },
     "execution_count": 20,
     "metadata": {},
     "output_type": "execute_result"
    },
    {
     "data": {
      "image/png": "[encoded data removed]",
      "text/plain": [
       "<Figure size 432x288 with 1 Axes>"
      ]
     },
     "metadata": {
      "needs_background": "light"
     },
     "output_type": "display_data"
    }
   ],
   "source": [
    "#stacked=True para que se vean en forma de barras y no en forma de pastel \n",
    "mediana.plot.barh(stacked=True)"
   ]
  },
  {
   "cell_type": "code",
   "execution_count": 22,
   "id": "78da3ed0",
   "metadata": {},
   "outputs": [
    {
     "data": {
      "text/plain": [
       "Prefecture\n",
       "Aichi           2.0\n",
       "Akita         996.0\n",
       "Aomori       1278.0\n",
       "Chiba        6246.0\n",
       "Ehime        1364.0\n",
       "Fukui          18.0\n",
       "Fukuoka      5107.0\n",
       "Fukushima    1882.0\n",
       "Gifu         2008.0\n",
       "Gunma        1960.0\n",
       "Name: Value, dtype: float64"
      ]
     },
     "execution_count": 22,
     "metadata": {},
     "output_type": "execute_result"
    }
   ],
   "source": [
    "#Grafica de las medianas de cada prefectura con una columna de color para cada prefectura \n",
    "data=pd.concat([df['Prefecture'],pd.to_numeric(df['Value'], errors='coerce')],axis=1)\n",
    "#  se calcula el promedio de los datos por cada prefectura y se le asigna un color a cada prefectura \n",
    "moda=data.groupby('Prefecture')['Value'].agg(lambda x:x.value_counts().index[0])\n",
    "#   se crea una columna de color para cada prefectura \n",
    "moda.head(10)"
   ]
  },
  {
   "cell_type": "code",
   "execution_count": 23,
   "id": "d0aa9cbe",
   "metadata": {},
   "outputs": [
    {
     "data": {
      "text/plain": [
       "<AxesSubplot:ylabel='Prefecture'>"
      ]
     },
     "execution_count": 23,
     "metadata": {},
     "output_type": "execute_result"
    },
    {
     "data": {
      "image/png": "[encoded data removed]",
      "text/plain": [
       "<Figure size 432x288 with 1 Axes>"
      ]
     },
     "metadata": {
      "needs_background": "light"
     },
     "output_type": "display_data"
    }
   ],
   "source": [
    "moda.plot.barh(stacked=True)"
   ]
  },
  {
   "cell_type": "markdown",
   "id": "6049890a",
   "metadata": {},
   "source": [
    "5) Con el dataset compartido en el aula virtual usted debe considerar el nombre de la ciudad/prefectura y población de vacunados."
   ]
  },
  {
   "cell_type": "code",
   "execution_count": 24,
   "id": "67cbbd6d",
   "metadata": {},
   "outputs": [
    {
     "data": {
      "text/plain": [
       "Prefecture\n",
       "Aichi        16543.516854\n",
       "Akita         4406.143044\n",
       "Aomori        4623.341422\n",
       "Chiba        14553.301007\n",
       "Ehime         5250.347766\n",
       "Fukui         2686.434916\n",
       "Fukuoka      20689.054454\n",
       "Fukushima     6635.857674\n",
       "Gifu          5339.854435\n",
       "Gunma         5933.113307\n",
       "Name: Value, dtype: float64"
      ]
     },
     "execution_count": 24,
     "metadata": {},
     "output_type": "execute_result"
    }
   ],
   "source": [
    "#Grafica de las medianas de cada prefectura con una columna de color para cada prefectura \n",
    "data=pd.concat([df['Prefecture'],pd.to_numeric(df['Value'], errors='coerce')],axis=1)\n",
    "#  se calcula el promedio de los datos por cada prefectura y se le asigna un color a cada prefectura\n",
    "pro_perf=data.groupby('Prefecture').std()['Value']\n",
    "#   se crea una columna de color para cada prefectura \n",
    "pro_perf.head(10)"
   ]
  },
  {
   "cell_type": "code",
   "execution_count": 25,
   "id": "f62f68fd",
   "metadata": {},
   "outputs": [
    {
     "data": {
      "text/plain": [
       "<AxesSubplot:ylabel='Prefecture'>"
      ]
     },
     "execution_count": 25,
     "metadata": {},
     "output_type": "execute_result"
    },
    {
     "data": {
      "image/png": "[encoded data removed]",
      "text/plain": [
       "<Figure size 432x288 with 1 Axes>"
      ]
     },
     "metadata": {
      "needs_background": "light"
     },
     "output_type": "display_data"
    }
   ],
   "source": [
    "pro_perf.plot.barh(stacked=True)"
   ]
  },
  {
   "cell_type": "markdown",
   "id": "b39749f6",
   "metadata": {},
   "source": [
    "Debido a la gran cantidad de datos la gráfica de barras es poco visible, pero hay una ciudad que tiene una irregularidad nombrada tokio con datos superiores. "
   ]
  },
  {
   "cell_type": "code",
   "execution_count": null,
   "id": "82889f5f",
   "metadata": {},
   "outputs": [],
   "source": []
  }
 ],
 "metadata": {
  "kernelspec": {
   "display_name": "Python 3 (ipykernel)",
   "language": "python",
   "name": "python3"
  },
  "language_info": {
   "codemirror_mode": {
    "name": "ipython",
    "version": 3
   },
   "file_extension": ".py",
   "mimetype": "text/x-python",
   "name": "python",
   "nbconvert_exporter": "python",
   "pygments_lexer": "ipython3",
   "version": "3.9.7"
  }
 },
 "nbformat": 4,
 "nbformat_minor": 5
}
