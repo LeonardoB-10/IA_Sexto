{
 "cells": [
  {
   "cell_type": "code",
   "execution_count": null,
   "id": "30fb544d",
   "metadata": {},
   "outputs": [],
   "source": [
    "#Se importa pandas para trabajar con el dataset\n",
    "import pandas as pd\n",
    "\n",
    "#Se imporata sklearn para aplicaar tecnicas de imputacion\n",
    "from sklearn.impute import SimpleImputer \n",
    "\n",
    "#Se importa numpy para trabar con datos numericos del dataset\n",
    "import numpy as np\n",
    "\n",
    "### Estandarización de la data ###\n",
    "from sklearn.preprocessing import StandardScaler\n",
    "\n",
    "#Importacion la clase train_test_split de la libreria sklearn\n",
    "from sklearn.model_selection import train_test_split\n",
    "\n",
    "#\n",
    "from sklearn import svm\n",
    "from sklearn import metrics\n",
    "\n",
    "#En caso de aplicar regrecion lineal\n",
    "from sklearn import linear_model\n",
    "\n",
    "from sklearn.tree import DecisionTreeClassifier"
   ]
  }
 ],
 "metadata": {
  "kernelspec": {
   "display_name": "Python 3 (ipykernel)",
   "language": "python",
   "name": "python3"
  },
  "language_info": {
   "codemirror_mode": {
    "name": "ipython",
    "version": 3
   },
   "file_extension": ".py",
   "mimetype": "text/x-python",
   "name": "python",
   "nbconvert_exporter": "python",
   "pygments_lexer": "ipython3",
   "version": "3.9.7"
  }
 },
 "nbformat": 4,
 "nbformat_minor": 5
}
